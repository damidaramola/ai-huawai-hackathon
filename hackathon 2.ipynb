{
 "cells": [
  {
   "cell_type": "code",
   "execution_count": 13,
   "id": "7450b74e-bdb0-4a6e-b2bc-feddaafbc39d",
   "metadata": {},
   "outputs": [
    {
     "name": "stderr",
     "output_type": "stream",
     "text": [
      "Truncation was not explicitly activated but `max_length` is provided a specific value, please use `truncation=True` to explicitly truncate examples to max length. Defaulting to 'longest_first' truncation strategy. If you encode pairs of sequences (GLUE-style) with the tokenizer you can select this strategy more precisely by providing a specific strategy to `truncation`.\n"
     ]
    },
    {
     "name": "stdout",
     "output_type": "stream",
     "text": [
      "SELECT count(DISTINCT age) FROM covid_vaccinations\n"
     ]
    }
   ],
   "source": [
    "from typing import List\n",
    "from transformers import AutoTokenizer, AutoModelForSeq2SeqLM\n",
    "import sqlite3\n",
    "import pandas\n",
    "\n",
    "\n",
    "database = \"sample.db\"\n",
    "conn = sqlite3.connect(database)\n",
    "\n",
    "\n",
    "tokenizer = AutoTokenizer.from_pretrained(\"juierror/flan-t5-text2sql-with-schema-v2\")\n",
    "model = AutoModelForSeq2SeqLM.from_pretrained(\"juierror/flan-t5-text2sql-with-schema-v2\")\n",
    "\n",
    "def get_prompt(tables, question):\n",
    "    prompt = f\"\"\"convert question and table into SQL query. tables: {tables}. question: {question}\"\"\"\n",
    "    return prompt\n",
    "\n",
    "def prepare_input(question: str, tables:List[str]):\n",
    "    tables = [f\"\"\"{table_name}({\",\".join(tables[table_name])})\"\"\" for table_name in tables]\n",
    "    tables = \", \".join(tables)\n",
    "    prompt = get_prompt(tables, question)\n",
    "    input_ids = tokenizer(prompt, max_length=512, return_tensors=\"pt\").input_ids\n",
    "    return input_ids\n",
    "\n",
    "def inference(question: str, tables:List[str]) -> str:\n",
    "    input_data = prepare_input(question=question, tables=tables)\n",
    "    input_data = input_data.to(model.device)\n",
    "    outputs = model.generate(inputs=input_data, num_beams=10, top_k=10, max_length=512)\n",
    "    result = tokenizer.decode(token_ids=outputs[0], skip_special_tokens=True)\n",
    "    return result\n",
    "\n",
    "print(inference(\"How many different age groups were tracked for covid vacciations?\", {\n",
    "    \"covid_vaccinations\": [\"Age Group\"]\n",
    "}))"
   ]
  },
  {
   "cell_type": "code",
   "execution_count": null,
   "id": "4fa64066-3ad5-41f1-8456-0bb6e4220e75",
   "metadata": {},
   "outputs": [],
   "source": []
  }
 ],
 "metadata": {
  "kernelspec": {
   "display_name": "Python 3 (ipykernel)",
   "language": "python",
   "name": "python3"
  },
  "language_info": {
   "codemirror_mode": {
    "name": "ipython",
    "version": 3
   },
   "file_extension": ".py",
   "mimetype": "text/x-python",
   "name": "python",
   "nbconvert_exporter": "python",
   "pygments_lexer": "ipython3",
   "version": "3.11.4"
  }
 },
 "nbformat": 4,
 "nbformat_minor": 5
}
